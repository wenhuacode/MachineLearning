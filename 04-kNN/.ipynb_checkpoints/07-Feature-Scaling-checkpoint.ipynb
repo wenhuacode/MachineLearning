{
 "cells": [
  {
   "cell_type": "markdown",
   "id": "37461200-0df2-432a-9e99-607c6aff689b",
   "metadata": {},
   "source": [
    "### 数据归一化处理"
   ]
  },
  {
   "cell_type": "code",
   "execution_count": 1,
   "id": "0eb8a909-cd80-48f8-9982-12b0b8c70adc",
   "metadata": {},
   "outputs": [],
   "source": [
    "import numpy as np\n",
    "import matplotlib.pyplot as plt"
   ]
  },
  {
   "cell_type": "markdown",
   "id": "2fff357c-3f0a-4339-a50f-9ff10e21f283",
   "metadata": {},
   "source": [
    "### 最值归一化 Normalization"
   ]
  },
  {
   "cell_type": "code",
   "execution_count": 2,
   "id": "a824c023-3c5f-424b-803b-8777889632df",
   "metadata": {},
   "outputs": [],
   "source": [
    "x = np.random.randint(0, 100, size=100)"
   ]
  },
  {
   "cell_type": "code",
   "execution_count": 3,
   "id": "8edf8412-648e-4664-a085-1d32b20450e7",
   "metadata": {},
   "outputs": [
    {
     "data": {
      "text/plain": [
       "array([63, 87, 98, 64, 31, 56, 60, 66, 93, 29, 10, 33, 30, 91, 11, 74, 77,\n",
       "        6, 72, 80, 42, 30,  2, 11, 50, 87, 72, 30, 59, 52, 46, 26, 77, 83,\n",
       "       61, 47, 77,  3, 35, 63,  1, 79, 70, 63,  2, 65, 71, 95, 90, 20,  9,\n",
       "       70, 80, 50, 38,  8, 91, 59, 65, 86, 34, 24, 56, 84, 89, 55, 11, 71,\n",
       "        8, 12, 96, 23,  1, 88, 98,  9, 67, 83, 21, 12, 19, 22, 24, 61,  2,\n",
       "       54, 29,  5, 27, 58, 53,  6, 28, 67,  5, 50, 75, 68, 58, 61])"
      ]
     },
     "execution_count": 3,
     "metadata": {},
     "output_type": "execute_result"
    }
   ],
   "source": [
    "x"
   ]
  },
  {
   "cell_type": "code",
   "execution_count": 4,
   "id": "08479980-65c0-4387-9e59-f5f61503169a",
   "metadata": {},
   "outputs": [
    {
     "data": {
      "text/plain": [
       "array([0.63917526, 0.88659794, 1.        , 0.64948454, 0.30927835,\n",
       "       0.56701031, 0.60824742, 0.67010309, 0.94845361, 0.28865979,\n",
       "       0.09278351, 0.32989691, 0.29896907, 0.92783505, 0.10309278,\n",
       "       0.75257732, 0.78350515, 0.05154639, 0.73195876, 0.81443299,\n",
       "       0.42268041, 0.29896907, 0.01030928, 0.10309278, 0.50515464,\n",
       "       0.88659794, 0.73195876, 0.29896907, 0.59793814, 0.5257732 ,\n",
       "       0.46391753, 0.25773196, 0.78350515, 0.84536082, 0.6185567 ,\n",
       "       0.4742268 , 0.78350515, 0.02061856, 0.35051546, 0.63917526,\n",
       "       0.        , 0.80412371, 0.71134021, 0.63917526, 0.01030928,\n",
       "       0.65979381, 0.72164948, 0.96907216, 0.91752577, 0.19587629,\n",
       "       0.08247423, 0.71134021, 0.81443299, 0.50515464, 0.3814433 ,\n",
       "       0.07216495, 0.92783505, 0.59793814, 0.65979381, 0.87628866,\n",
       "       0.34020619, 0.2371134 , 0.56701031, 0.8556701 , 0.90721649,\n",
       "       0.55670103, 0.10309278, 0.72164948, 0.07216495, 0.11340206,\n",
       "       0.97938144, 0.22680412, 0.        , 0.89690722, 1.        ,\n",
       "       0.08247423, 0.68041237, 0.84536082, 0.20618557, 0.11340206,\n",
       "       0.18556701, 0.21649485, 0.2371134 , 0.6185567 , 0.01030928,\n",
       "       0.54639175, 0.28865979, 0.04123711, 0.26804124, 0.58762887,\n",
       "       0.53608247, 0.05154639, 0.27835052, 0.68041237, 0.04123711,\n",
       "       0.50515464, 0.7628866 , 0.69072165, 0.58762887, 0.6185567 ])"
      ]
     },
     "execution_count": 4,
     "metadata": {},
     "output_type": "execute_result"
    }
   ],
   "source": [
    "(x - np.min(x)) / (np.max(x) - np.min(x))"
   ]
  },
  {
   "cell_type": "code",
   "execution_count": 5,
   "id": "3dd49777-6d84-4ef4-a2fa-8da27a7c1c53",
   "metadata": {},
   "outputs": [],
   "source": [
    "X = np.random.randint(0, 100, (50, 2))"
   ]
  },
  {
   "cell_type": "code",
   "execution_count": 7,
   "id": "39bc7734-cda7-42b5-ad71-8c8ec3164a20",
   "metadata": {},
   "outputs": [
    {
     "data": {
      "text/plain": [
       "array([[34, 69],\n",
       "       [58, 80],\n",
       "       [12, 34],\n",
       "       [60, 29],\n",
       "       [17, 60],\n",
       "       [87, 24],\n",
       "       [76, 27],\n",
       "       [76, 97],\n",
       "       [63, 97],\n",
       "       [95, 51]])"
      ]
     },
     "execution_count": 7,
     "metadata": {},
     "output_type": "execute_result"
    }
   ],
   "source": [
    "X[:10, :]"
   ]
  },
  {
   "cell_type": "code",
   "execution_count": 8,
   "id": "7bf27a1a-bee0-4c63-81db-c728e903adf5",
   "metadata": {},
   "outputs": [],
   "source": [
    "X = np.array(X, dtype=float)"
   ]
  },
  {
   "cell_type": "code",
   "execution_count": 9,
   "id": "4620c1af-dc09-4c41-ae75-c25934f2b1c5",
   "metadata": {},
   "outputs": [
    {
     "data": {
      "text/plain": [
       "array([[34., 69.],\n",
       "       [58., 80.],\n",
       "       [12., 34.],\n",
       "       [60., 29.],\n",
       "       [17., 60.],\n",
       "       [87., 24.],\n",
       "       [76., 27.],\n",
       "       [76., 97.],\n",
       "       [63., 97.],\n",
       "       [95., 51.]])"
      ]
     },
     "execution_count": 9,
     "metadata": {},
     "output_type": "execute_result"
    }
   ],
   "source": [
    "X[:10, :]"
   ]
  },
  {
   "cell_type": "code",
   "execution_count": 10,
   "id": "8d07fa1f-50f1-4b18-98c2-3daa6486212c",
   "metadata": {},
   "outputs": [
    {
     "data": {
      "text/plain": [
       "array([34., 58., 12., 60., 17., 87., 76., 76., 63., 95., 29.,  4., 73.,\n",
       "       31., 35., 88., 83., 70., 87.,  6., 19., 54.,  2., 30., 48., 76.,\n",
       "       22., 90., 40., 33., 60., 91., 77., 85., 30., 19., 13., 40., 33.,\n",
       "       92., 51., 88., 29., 24., 65., 32., 19., 25.,  0., 86.])"
      ]
     },
     "execution_count": 10,
     "metadata": {},
     "output_type": "execute_result"
    }
   ],
   "source": [
    "X[:, 0]"
   ]
  },
  {
   "cell_type": "code",
   "execution_count": 13,
   "id": "39371201-84aa-4605-94c0-d4635cc5ac8e",
   "metadata": {},
   "outputs": [],
   "source": [
    "X[:, 0] = (X[:, 0] - np.min(X[:, 0])) / (np.max(X[:, 0]) - np.min(X[:, 0]))"
   ]
  },
  {
   "cell_type": "code",
   "execution_count": 14,
   "id": "c2b36265-b2b5-4388-84cc-b0b91a392862",
   "metadata": {},
   "outputs": [],
   "source": [
    "X[:, 1] = (X[:, 1] - np.min(X[:, 1])) / (np.max(X[:, 1]) - np.min(X[:, 1]))"
   ]
  },
  {
   "cell_type": "code",
   "execution_count": 16,
   "id": "99141797-d14a-43da-9446-dff0e442e6d7",
   "metadata": {},
   "outputs": [
    {
     "data": {
      "text/plain": [
       "array([[0.35789474, 0.68539326],\n",
       "       [0.61052632, 0.80898876],\n",
       "       [0.12631579, 0.29213483],\n",
       "       [0.63157895, 0.23595506],\n",
       "       [0.17894737, 0.58426966],\n",
       "       [0.91578947, 0.17977528],\n",
       "       [0.8       , 0.21348315],\n",
       "       [0.8       , 1.        ],\n",
       "       [0.66315789, 1.        ],\n",
       "       [1.        , 0.48314607]])"
      ]
     },
     "execution_count": 16,
     "metadata": {},
     "output_type": "execute_result"
    }
   ],
   "source": [
    "X[:10, :]"
   ]
  },
  {
   "cell_type": "code",
   "execution_count": 17,
   "id": "8cd65a19-6a87-428f-a76a-280f50fab866",
   "metadata": {},
   "outputs": [
    {
     "data": {
      "text/plain": [
       "<matplotlib.collections.PathCollection at 0x1ec590a49a0>"
      ]
     },
     "execution_count": 17,
     "metadata": {},
     "output_type": "execute_result"
    },
    {
     "data": {
      "image/png": "[encoded data removed]",
      "text/plain": [
       "<Figure size 640x480 with 1 Axes>"
      ]
     },
     "metadata": {},
     "output_type": "display_data"
    }
   ],
   "source": [
    "plt.scatter(X[:, 0], X[:, 1])"
   ]
  },
  {
   "cell_type": "code",
   "execution_count": 18,
   "id": "1d91085b-1990-40b5-87bb-7af2fef76594",
   "metadata": {},
   "outputs": [
    {
     "data": {
      "text/plain": [
       "0.5172631578947369"
      ]
     },
     "execution_count": 18,
     "metadata": {},
     "output_type": "execute_result"
    }
   ],
   "source": [
    "np.mean(X[:, 0])"
   ]
  },
  {
   "cell_type": "code",
   "execution_count": 19,
   "id": "3b14adab-da19-4d6d-9412-a02e488515b2",
   "metadata": {},
   "outputs": [
    {
     "data": {
      "text/plain": [
       "0.3050308371859295"
      ]
     },
     "execution_count": 19,
     "metadata": {},
     "output_type": "execute_result"
    }
   ],
   "source": [
    "np.std(X[:, 0])"
   ]
  },
  {
   "cell_type": "code",
   "execution_count": 20,
   "id": "0c096fd5-3905-4b84-b0b4-3f1e21fcd7f2",
   "metadata": {},
   "outputs": [
    {
     "data": {
      "text/plain": [
       "0.4932584269662921"
      ]
     },
     "execution_count": 20,
     "metadata": {},
     "output_type": "execute_result"
    }
   ],
   "source": [
    "np.mean(X[:, 1])"
   ]
  },
  {
   "cell_type": "code",
   "execution_count": 21,
   "id": "a8ecaea6-7130-437a-8ef3-92d9c4e5e7b1",
   "metadata": {},
   "outputs": [
    {
     "data": {
      "text/plain": [
       "0.30288975596269013"
      ]
     },
     "execution_count": 21,
     "metadata": {},
     "output_type": "execute_result"
    }
   ],
   "source": [
    "np.std(X[:, 1])"
   ]
  },
  {
   "cell_type": "markdown",
   "id": "4d54564c-4dc3-4c29-8a71-e3b490a5644d",
   "metadata": {},
   "source": [
    "### 均值方差归一化"
   ]
  },
  {
   "cell_type": "code",
   "execution_count": 22,
   "id": "0053f7b1-9722-4f8c-908b-0303ab7e057d",
   "metadata": {},
   "outputs": [],
   "source": [
    "X2 = np.random.randint(0, 100, (50, 2))"
   ]
  },
  {
   "cell_type": "code",
   "execution_count": 23,
   "id": "b8e5a526-1bf7-4a67-a867-7f28b4030e5b",
   "metadata": {},
   "outputs": [],
   "source": [
    "X2 = np.array(X2, dtype=float)"
   ]
  },
  {
   "cell_type": "code",
   "execution_count": 25,
   "id": "18f0943b-0c7f-4fa6-b2f6-8f5581923e30",
   "metadata": {},
   "outputs": [],
   "source": [
    "X2[:, 0] = (X2[:, 0] - np.mean(X2[:, 0])) / np.std(X2[:, 0])"
   ]
  },
  {
   "cell_type": "code",
   "execution_count": 26,
   "id": "b53f9b0e-0ae5-4d58-84ae-0a4bab7f3e89",
   "metadata": {},
   "outputs": [],
   "source": [
    "X2[:, 1] = (X2[:, 1] - np.mean(X2[:, 1])) / np.std(X2[:, 1])"
   ]
  },
  {
   "cell_type": "code",
   "execution_count": 27,
   "id": "cdb37154-c812-477d-844d-7c3f64098bfe",
   "metadata": {},
   "outputs": [
    {
     "data": {
      "text/plain": [
       "<matplotlib.collections.PathCollection at 0x1ec598673d0>"
      ]
     },
     "execution_count": 27,
     "metadata": {},
     "output_type": "execute_result"
    },
    {
     "data": {
      "image/png": "[encoded data removed]",
      "text/plain": [
       "<Figure size 640x480 with 1 Axes>"
      ]
     },
     "metadata": {},
     "output_type": "display_data"
    }
   ],
   "source": [
    "plt.scatter(X2[:, 0], X2[:, 1])"
   ]
  },
  {
   "cell_type": "code",
   "execution_count": null,
   "id": "c2da9798-5378-42be-b44c-bd881480707e",
   "metadata": {},
   "outputs": [],
   "source": []
  },
  {
   "cell_type": "code",
   "execution_count": null,
   "id": "4208c4cf-0e7a-4599-83c2-ffed936babe6",
   "metadata": {},
   "outputs": [],
   "source": []
  }
 ],
 "metadata": {
  "kernelspec": {
   "display_name": "Python 3 (ipykernel)",
   "language": "python",
   "name": "python3"
  },
  "language_info": {
   "codemirror_mode": {
    "name": "ipython",
    "version": 3
   },
   "file_extension": ".py",
   "mimetype": "text/x-python",
   "name": "python",
   "nbconvert_exporter": "python",
   "pygments_lexer": "ipython3",
   "version": "3.10.2"
  }
 },
 "nbformat": 4,
 "nbformat_minor": 5
}
