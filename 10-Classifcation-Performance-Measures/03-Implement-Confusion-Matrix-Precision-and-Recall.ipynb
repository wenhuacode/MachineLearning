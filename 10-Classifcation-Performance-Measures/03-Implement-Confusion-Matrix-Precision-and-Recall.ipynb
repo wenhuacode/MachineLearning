{
 "cells": [
  {
   "cell_type": "markdown",
   "id": "295a3c48-715d-4d17-bacc-1e6971f5b280",
   "metadata": {},
   "source": [
    "### 实现混淆矩阵， 精准率和召回率"
   ]
  },
  {
   "cell_type": "code",
   "execution_count": 1,
   "id": "dec47327-59f0-46a5-81c6-7c6cc784f9d1",
   "metadata": {},
   "outputs": [],
   "source": [
    "import numpy as np\n",
    "from sklearn import datasets"
   ]
  },
  {
   "cell_type": "code",
   "execution_count": 2,
   "id": "ca0a78ac-0b1a-4ed5-9ca6-c276cb7acd8e",
   "metadata": {},
   "outputs": [],
   "source": [
    "digits = datasets.load_digits()\n",
    "X = digits.data\n",
    "y = digits.target.copy()\n",
    "\n",
    "y[digits.target==9] = 1\n",
    "y[digits.target!=9] = 0"
   ]
  },
  {
   "cell_type": "code",
   "execution_count": 3,
   "id": "3c07c93c-d212-4ff0-96bb-e8d0e05be3f4",
   "metadata": {},
   "outputs": [],
   "source": [
    "from sklearn.model_selection import train_test_split\n",
    "\n",
    "X_train, X_test, y_train, y_test = train_test_split(X, y, random_state=666)"
   ]
  },
  {
   "cell_type": "code",
   "execution_count": 6,
   "id": "55c96d70-54bd-4bcd-b796-04a5db73f0f1",
   "metadata": {},
   "outputs": [
    {
     "data": {
      "text/plain": [
       "0.9755555555555555"
      ]
     },
     "execution_count": 6,
     "metadata": {},
     "output_type": "execute_result"
    }
   ],
   "source": [
    "from sklearn.linear_model import LogisticRegression\n",
    "\n",
    "log_reg = LogisticRegression(solver=\"liblinear\")\n",
    "log_reg.fit(X_train, y_train)\n",
    "log_reg.score(X_test, y_test)"
   ]
  },
  {
   "cell_type": "code",
   "execution_count": 8,
   "id": "3cc6368c-22e9-45fd-851b-f023fa1a63ea",
   "metadata": {},
   "outputs": [],
   "source": [
    "log_reg_predict = log_reg.predict(X_test)  # 得到预测值"
   ]
  },
  {
   "cell_type": "code",
   "execution_count": 10,
   "id": "5d1f283e-8d2f-499f-a8ef-d05059c24cd8",
   "metadata": {},
   "outputs": [
    {
     "data": {
      "text/plain": [
       "403"
      ]
     },
     "execution_count": 10,
     "metadata": {},
     "output_type": "execute_result"
    }
   ],
   "source": [
    "def TN(y_true, y_predict):\n",
    "    assert len(y_true) == len(y_predict)\n",
    "    return np.sum((y_true == 0) & (y_predict == 0))\n",
    "\n",
    "TN(y_test, log_reg_predict)"
   ]
  },
  {
   "cell_type": "code",
   "execution_count": 11,
   "id": "80d06a61-1297-4b56-8f0b-1448f0c0eff5",
   "metadata": {},
   "outputs": [
    {
     "data": {
      "text/plain": [
       "2"
      ]
     },
     "execution_count": 11,
     "metadata": {},
     "output_type": "execute_result"
    }
   ],
   "source": [
    "def FP(y_true, y_predict):\n",
    "    assert len(y_true) == len(y_predict)\n",
    "    return np.sum((y_true == 0) & (y_predict == 1))\n",
    "\n",
    "FP(y_test, log_reg_predict)"
   ]
  },
  {
   "cell_type": "code",
   "execution_count": 12,
   "id": "e56e942a-60b5-4545-a77c-9df2643ff34a",
   "metadata": {},
   "outputs": [
    {
     "data": {
      "text/plain": [
       "9"
      ]
     },
     "execution_count": 12,
     "metadata": {},
     "output_type": "execute_result"
    }
   ],
   "source": [
    "def FN(y_true, y_predict):\n",
    "    assert len(y_true) == len(y_predict)\n",
    "    return np.sum((y_true == 1) & (y_predict == 0))\n",
    "\n",
    "FN(y_test, log_reg_predict)"
   ]
  },
  {
   "cell_type": "code",
   "execution_count": 13,
   "id": "0f373df7-4eeb-4077-9737-cd55f6149169",
   "metadata": {},
   "outputs": [
    {
     "data": {
      "text/plain": [
       "36"
      ]
     },
     "execution_count": 13,
     "metadata": {},
     "output_type": "execute_result"
    }
   ],
   "source": [
    "def TP(y_true, y_predict):\n",
    "    assert len(y_true) == len(y_predict)\n",
    "    return np.sum((y_true == 1) & (y_predict == 1))\n",
    "\n",
    "TP(y_test, log_reg_predict)"
   ]
  },
  {
   "cell_type": "code",
   "execution_count": 15,
   "id": "acf95f1d-f023-480c-a753-13da72a113e6",
   "metadata": {},
   "outputs": [
    {
     "data": {
      "text/plain": [
       "array([[403,   2],\n",
       "       [  9,  36]])"
      ]
     },
     "execution_count": 15,
     "metadata": {},
     "output_type": "execute_result"
    }
   ],
   "source": [
    "def confusion_matrix(y_true, y_predict):\n",
    "    return np.array([\n",
    "        [TN(y_true, y_predict), FP(y_true, y_predict)],\n",
    "        [FN(y_true, y_predict), TP(y_true, y_predict)]\n",
    "    ])\n",
    "\n",
    "confusion_matrix(y_test, log_reg_predict)"
   ]
  },
  {
   "cell_type": "code",
   "execution_count": 16,
   "id": "28a61adf-512d-4ea8-9ec9-abd446494745",
   "metadata": {},
   "outputs": [
    {
     "data": {
      "text/plain": [
       "0.9473684210526315"
      ]
     },
     "execution_count": 16,
     "metadata": {},
     "output_type": "execute_result"
    }
   ],
   "source": [
    "def precision_score(y_true, y_predict):\n",
    "    tp = TP(y_true, y_predict)\n",
    "    fp = FP(y_true, y_predict)\n",
    "    try:\n",
    "        return tp / (tp + fp)\n",
    "    except:\n",
    "        return 0.0\n",
    "\n",
    "precision_score(y_test, log_reg_predict)"
   ]
  },
  {
   "cell_type": "code",
   "execution_count": 17,
   "id": "391346f2-94e4-434c-b334-cda251477264",
   "metadata": {},
   "outputs": [
    {
     "data": {
      "text/plain": [
       "0.8"
      ]
     },
     "execution_count": 17,
     "metadata": {},
     "output_type": "execute_result"
    }
   ],
   "source": [
    "def recall_score(y_true, y_predict):\n",
    "    tp = TP(y_true, y_predict)\n",
    "    fn = FN(y_true, y_predict)\n",
    "    try:\n",
    "        return tp / (tp + fn)\n",
    "    except:\n",
    "        return 0.0\n",
    "\n",
    "recall_score(y_test, log_reg_predict)"
   ]
  },
  {
   "cell_type": "markdown",
   "id": "ec290a96-1683-43f1-b497-2165b89ebea1",
   "metadata": {},
   "source": [
    "### scikit-learn 中的混淆矩阵， 精准率和召回率"
   ]
  },
  {
   "cell_type": "code",
   "execution_count": 18,
   "id": "b77cbbed-bd94-4f69-aac4-2f2a4ea915ff",
   "metadata": {},
   "outputs": [
    {
     "data": {
      "text/plain": [
       "array([[403,   2],\n",
       "       [  9,  36]], dtype=int64)"
      ]
     },
     "execution_count": 18,
     "metadata": {},
     "output_type": "execute_result"
    }
   ],
   "source": [
    "from sklearn.metrics import confusion_matrix\n",
    "\n",
    "confusion_matrix(y_test, log_reg_predict)"
   ]
  },
  {
   "cell_type": "code",
   "execution_count": 19,
   "id": "7cb2161b-af3b-4ca0-84a1-30815aeab935",
   "metadata": {},
   "outputs": [
    {
     "data": {
      "text/plain": [
       "0.9473684210526315"
      ]
     },
     "execution_count": 19,
     "metadata": {},
     "output_type": "execute_result"
    }
   ],
   "source": [
    "from sklearn.metrics import precision_score\n",
    "\n",
    "precision_score(y_test, log_reg_predict)"
   ]
  },
  {
   "cell_type": "code",
   "execution_count": 20,
   "id": "a81f077a-3d2e-45da-a9b0-ba0586ba6a14",
   "metadata": {},
   "outputs": [
    {
     "data": {
      "text/plain": [
       "0.8"
      ]
     },
     "execution_count": 20,
     "metadata": {},
     "output_type": "execute_result"
    }
   ],
   "source": [
    "from sklearn.metrics import recall_score\n",
    "\n",
    "recall_score(y_test, log_reg_predict)"
   ]
  },
  {
   "cell_type": "code",
   "execution_count": null,
   "id": "10bb1b2b-2591-481b-957f-9e0d022d3ebd",
   "metadata": {},
   "outputs": [],
   "source": []
  }
 ],
 "metadata": {
  "kernelspec": {
   "display_name": "Python 3 (ipykernel)",
   "language": "python",
   "name": "python3"
  },
  "language_info": {
   "codemirror_mode": {
    "name": "ipython",
    "version": 3
   },
   "file_extension": ".py",
   "mimetype": "text/x-python",
   "name": "python",
   "nbconvert_exporter": "python",
   "pygments_lexer": "ipython3",
   "version": "3.10.2"
  }
 },
 "nbformat": 4,
 "nbformat_minor": 5
}
